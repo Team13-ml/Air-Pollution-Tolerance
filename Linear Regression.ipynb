{
 "cells": [
  {
   "cell_type": "code",
   "execution_count": 61,
   "metadata": {},
   "outputs": [],
   "source": [
    "import numpy as np\n",
    "from sklearn.linear_model import LinearRegression\n"
   ]
  },
  {
   "cell_type": "code",
   "execution_count": 62,
   "metadata": {},
   "outputs": [
    {
     "name": "stdout",
     "output_type": "stream",
     "text": [
      "[151, 268, 283, 292, 296, 290, 294, 299.77, 305.41, 324.44, 19188, 25532, 22336, 22625, 23173, 22783, 23073, 22574.0, 22781.0, 21769.0, 27536, 27634, 28665, 28632, 27958, 27361, 27910, 30850.0, 30952.0, 31194.0, 13957, 14074, 14682, 15357, 15126, 14678, 14557, 18916.0, 18983.0, 18908.0, 16706, 17480, 18227, 20040, 19251, 18332, 18741, 22190.0, 23280.0, 24080.0, 55751, 56185, 56454, 59872, 58223, 55944, 56618, 60186.0, 60513.0, 61584.0, 3280, 2932, 3152, 3081, 2964, 2912, 2869, 2939.0, 3003.0, 3167.0]\n"
     ]
    }
   ],
   "source": [
    "import pandas as pd\n",
    "\n",
    "ttc = pd.read_csv(\"Total Tree Cover.csv\")\n",
    "states = [\"Delhi\",\"Gujarat\",\"Tamil Nadu\",\"West Bengal\",\"Kerala\",\"Maharashtra\",\"Haryana\"]\n",
    "years = ['2001','2003','2005','2007','2009','2011','2013','2015','2017','2019']\n",
    "green = []\n",
    "for s in states:\n",
    "    for y in years:\n",
    "        green.append(ttc[y].loc[ttc['States']==s].item())\n",
    "print(green)"
   ]
  },
  {
   "cell_type": "code",
   "execution_count": 63,
   "metadata": {},
   "outputs": [
    {
     "name": "stdout",
     "output_type": "stream",
     "text": [
      "[191.7254384, 192.6765664, 199.6257415, 195.8595969, 197.8148715, 206.5779798, 244.59436290000002, 217.84995940000002, 286.6591847, 278.46921299999997, 95.63283675, 40.97292795, 97.14741836, 93.30187848, 91.05817008, 91.08624785, 80.34809288, 85.48477527, 350.6590909, 270.63376560000006, 83.50569822, 81.94591192499999, 85.86508938, 83.5303332, 79.66335713, 80.06807518, 81.26970442, 79.39007905, 209.3380548, 184.75428080000003, 182.52352150000002, 177.48099865, 165.14740049999997, 170.3377819, 183.4719823, 179.1019605, 179.35247569999999, 153.29035249999998, 241.2882022, 243.14284249999997, 95.41258484, 88.82292513, 97.02330879, 94.02754262, 92.90049813, 87.47843409, 83.66128061, 87.39996973, 165.1018519, 132.71393030000002, 130.4324471, 95.82826700000001, 126.5788152, 124.844327, 122.5161713, 128.4521915, 125.2032777, 127.55311409999999, 201.47433940000002, 208.1854167, 110.83757620000002, 112.7155645, 108.3611154, 95.13157883, 114.08596999999999, 116.50834640000002, 112.2468068, 174.828495, 271.7788671, 245.99310150000002]\n"
     ]
    }
   ],
   "source": [
    "ad = pd.read_csv(\"aircsv.csv\")\n",
    "aqis = []\n",
    "years = [2001,2003,2005,2007,2009,2011,2013,2015,2017,2019]\n",
    "for s in states:\n",
    "    for y in years:\n",
    "        aqi = ad['AQI'].loc[(ad['state'] == s) & (ad['year'] == y)]\n",
    "        aqi = list(aqi)\n",
    "        if len(aqi) == 0:\n",
    "            aqi = ad['AQI'].loc[(ad['state'] == s) & (ad['year'] == y-1)] \n",
    "            aqi1 = ad['AQI'].loc[(ad['state'] == s) & (ad['year'] == y+1)]\n",
    "            aqi = list(aqi)\n",
    "            aqi1 = list(aqi1)\n",
    "            aqi.extend(aqi1)\n",
    "        aqis.append(sum(aqi)/len(aqi))\n",
    "print(aqis)"
   ]
  },
  {
   "cell_type": "code",
   "execution_count": 6,
   "metadata": {},
   "outputs": [
    {
     "name": "stdout",
     "output_type": "stream",
     "text": [
      "[1483, 196022, 130058, 88752, 38863, 307713, 44212]\n"
     ]
    }
   ],
   "source": [
    "ga = pd.read_csv(\"forest_cover.csv\")\n",
    "g = []\n",
    "for state in states:\n",
    "    a = ga[\"Geographical Area_1-13\"].loc[ga['State/UT']==state].item()\n",
    "    g.append(int(a.replace(',','')))\n",
    "print(g)"
   ]
  },
  {
   "cell_type": "code",
   "execution_count": 7,
   "metadata": {},
   "outputs": [
    {
     "name": "stdout",
     "output_type": "stream",
     "text": [
      "[10.182063385030343, 18.071476736345247, 19.08293998651382, 19.68981793661497, 19.95954146999326, 19.554956169925827, 19.824679703304113, 20.21375590020229, 20.59406608226568, 21.87727579231288, 9.788697187050433, 13.025068614747322, 11.394639377212762, 11.542071808266419, 11.821632265766087, 11.622675005866688, 11.7706175837406, 11.51605432043342, 11.621654712226178, 11.10538613012825, 21.172092451060294, 21.247443448307678, 22.040166694859217, 22.014793399867752, 21.496563071860248, 21.03753709883283, 21.45965646096357, 23.720186378385026, 23.798612926540468, 23.984683756477878, 15.72584279790878, 15.8576708130521, 16.5427257977285, 17.30327203893997, 17.042996214169822, 16.53821885703984, 16.40188390120786, 21.313322516675683, 21.388813773210742, 21.304308635298362, 42.98690270951805, 44.97851426806989, 46.90065100481177, 51.56575663227234, 49.535547950492756, 47.17083086740602, 48.2232457607493, 57.098010961583, 59.902735249466076, 61.96124848827934, 18.11785657414539, 18.258897089170752, 18.34631621023486, 19.457091510595912, 18.921202549128573, 18.180577356172797, 18.3996126260509, 19.55913464819491, 19.66540250168176, 20.013454095212097, 7.418800325703429, 6.631683705781236, 7.129286166651588, 6.9686962815525195, 6.704062245544195, 6.586447118429385, 6.489188455622907, 6.647516511354383, 6.7922735908803045, 7.163213607165475]\n"
     ]
    }
   ],
   "source": [
    "r = 10\n",
    "area = []\n",
    "ratio = []\n",
    "for a in g:\n",
    "    for i in range(r):\n",
    "        area.append(a)\n",
    "for i in range(len(green)):\n",
    "    ratio.append((green[i]/area[i])*100)\n",
    "print(ratio) "
   ]
  },
  {
   "cell_type": "code",
   "execution_count": 69,
   "metadata": {},
   "outputs": [
    {
     "name": "stdout",
     "output_type": "stream",
     "text": [
      "[[191.7254384 ]\n",
      " [192.6765664 ]\n",
      " [199.6257415 ]\n",
      " [195.8595969 ]\n",
      " [197.8148715 ]\n",
      " [206.5779798 ]\n",
      " [244.5943629 ]\n",
      " [217.8499594 ]\n",
      " [286.6591847 ]\n",
      " [278.469213  ]\n",
      " [ 95.63283675]\n",
      " [ 40.97292795]\n",
      " [ 97.14741836]\n",
      " [ 93.30187848]\n",
      " [ 91.05817008]\n",
      " [ 91.08624785]\n",
      " [ 80.34809288]\n",
      " [ 85.48477527]\n",
      " [350.6590909 ]\n",
      " [270.6337656 ]\n",
      " [ 83.50569822]\n",
      " [ 81.94591192]\n",
      " [ 85.86508938]\n",
      " [ 83.5303332 ]\n",
      " [ 79.66335713]\n",
      " [ 80.06807518]\n",
      " [ 81.26970442]\n",
      " [ 79.39007905]\n",
      " [209.3380548 ]\n",
      " [184.7542808 ]\n",
      " [182.5235215 ]\n",
      " [177.48099865]\n",
      " [165.1474005 ]\n",
      " [170.3377819 ]\n",
      " [183.4719823 ]\n",
      " [179.1019605 ]\n",
      " [179.3524757 ]\n",
      " [153.2903525 ]\n",
      " [241.2882022 ]\n",
      " [243.1428425 ]\n",
      " [ 95.41258484]\n",
      " [ 88.82292513]\n",
      " [ 97.02330879]\n",
      " [ 94.02754262]\n",
      " [ 92.90049813]\n",
      " [ 87.47843409]\n",
      " [ 83.66128061]\n",
      " [ 87.39996973]\n",
      " [165.1018519 ]\n",
      " [132.7139303 ]\n",
      " [130.4324471 ]\n",
      " [ 95.828267  ]\n",
      " [126.5788152 ]\n",
      " [124.844327  ]\n",
      " [122.5161713 ]\n",
      " [128.4521915 ]\n",
      " [125.2032777 ]\n",
      " [127.5531141 ]\n",
      " [201.4743394 ]\n",
      " [208.1854167 ]\n",
      " [110.8375762 ]\n",
      " [112.7155645 ]\n",
      " [108.3611154 ]\n",
      " [ 95.13157883]\n",
      " [114.08597   ]\n",
      " [116.5083464 ]\n",
      " [112.2468068 ]\n",
      " [174.828495  ]\n",
      " [271.7788671 ]\n",
      " [245.9931015 ]]\n",
      "[  151.     268.     283.     292.     296.     290.     294.     299.77\n",
      "   305.41   324.44 19188.   25532.   22336.   22625.   23173.   22783.\n",
      " 23073.   22574.   22781.   21769.   27536.   27634.   28665.   28632.\n",
      " 27958.   27361.   27910.   30850.   30952.   31194.   13957.   14074.\n",
      " 14682.   15357.   15126.   14678.   14557.   18916.   18983.   18908.\n",
      " 16706.   17480.   18227.   20040.   19251.   18332.   18741.   22190.\n",
      " 23280.   24080.   55751.   56185.   56454.   59872.   58223.   55944.\n",
      " 56618.   60186.   60513.   61584.    3280.    2932.    3152.    3081.\n",
      "  2964.    2912.    2869.    2939.    3003.    3167.  ]\n"
     ]
    }
   ],
   "source": [
    "x = np.array(aqis).reshape((-1,1))\n",
    "y = np.array(green)\n",
    "print(x)\n",
    "print(y)"
   ]
  },
  {
   "cell_type": "code",
   "execution_count": 66,
   "metadata": {},
   "outputs": [
    {
     "name": "stdout",
     "output_type": "stream",
     "text": [
      "[[170.3377819 ]\n",
      " [128.4521915 ]\n",
      " [271.7788671 ]\n",
      " [108.3611154 ]\n",
      " [ 94.02754262]\n",
      " [197.8148715 ]\n",
      " [116.5083464 ]\n",
      " [130.4324471 ]\n",
      " [199.6257415 ]\n",
      " [ 95.41258484]\n",
      " [ 40.97292795]\n",
      " [195.8595969 ]\n",
      " [122.5161713 ]\n",
      " [ 87.47843409]\n",
      " [ 95.63283675]\n",
      " [ 88.82292513]\n",
      " [132.7139303 ]\n",
      " [124.844327  ]\n",
      " [127.5531141 ]\n",
      " [165.1474005 ]\n",
      " [ 91.05817008]\n",
      " [174.828495  ]\n",
      " [270.6337656 ]\n",
      " [184.7542808 ]\n",
      " [126.5788152 ]\n",
      " [179.1019605 ]\n",
      " [350.6590909 ]\n",
      " [191.7254384 ]\n",
      " [ 91.08624785]\n",
      " [206.5779798 ]\n",
      " [ 80.34809288]\n",
      " [ 83.50569822]\n",
      " [112.2468068 ]\n",
      " [286.6591847 ]\n",
      " [ 93.30187848]\n",
      " [ 80.06807518]\n",
      " [153.2903525 ]\n",
      " [ 85.48477527]\n",
      " [110.8375762 ]\n",
      " [ 83.66128061]\n",
      " [ 95.13157883]\n",
      " [243.1428425 ]\n",
      " [241.2882022 ]\n",
      " [192.6765664 ]\n",
      " [201.4743394 ]\n",
      " [ 97.14741836]\n",
      " [112.7155645 ]\n",
      " [ 79.66335713]\n",
      " [244.5943629 ]\n",
      " [ 83.5303332 ]\n",
      " [179.3524757 ]\n",
      " [ 81.94591192]\n",
      " [278.469213  ]\n",
      " [114.08597   ]\n",
      " [ 87.39996973]\n",
      " [ 92.90049813]]\n",
      "[[ 81.26970442]\n",
      " [ 79.39007905]\n",
      " [165.1018519 ]\n",
      " [ 85.86508938]\n",
      " [182.5235215 ]\n",
      " [ 95.828267  ]\n",
      " [217.8499594 ]\n",
      " [208.1854167 ]\n",
      " [183.4719823 ]\n",
      " [245.9931015 ]\n",
      " [125.2032777 ]\n",
      " [209.3380548 ]\n",
      " [177.48099865]\n",
      " [ 97.02330879]]\n",
      "[15357.   55944.    3003.    3152.   20040.     296.    2912.   55751.\n",
      "   283.   16706.   25532.     292.   58223.   18332.   19188.   17480.\n",
      " 24080.   59872.   60186.   14682.   23173.    2939.   21769.   31194.\n",
      " 56454.   14678.   22781.     151.   22783.     290.   23073.   27536.\n",
      "  2869.     305.41 22625.   27361.   18916.   22574.    3280.   18741.\n",
      "  3081.   18908.   18983.     268.   60513.   22336.    2932.   27958.\n",
      "   294.   28632.   14557.   27634.     324.44  2964.   22190.   19251.  ]\n",
      "[27910.   30850.   23280.   28665.   13957.   56185.     299.77 61584.\n",
      " 15126.    3167.   56618.   30952.   14074.   18227.  ]\n"
     ]
    }
   ],
   "source": [
    "from sklearn.model_selection import train_test_split\n",
    "x_train, x_test, y_train, y_test = train_test_split(x,y,test_size = 0.2, random_state=0)\n",
    "print(x_train)\n",
    "print(x_test)\n",
    "print(y_train)\n",
    "print(y_test)"
   ]
  },
  {
   "cell_type": "code",
   "execution_count": 67,
   "metadata": {},
   "outputs": [
    {
     "data": {
      "text/plain": [
       "LinearRegression(copy_X=True, fit_intercept=True, n_jobs=None,\n",
       "         normalize=False)"
      ]
     },
     "execution_count": 67,
     "metadata": {},
     "output_type": "execute_result"
    }
   ],
   "source": [
    "model = LinearRegression()\n",
    "model.fit(x_train,y_train)"
   ]
  },
  {
   "cell_type": "code",
   "execution_count": 43,
   "metadata": {},
   "outputs": [
    {
     "name": "stdout",
     "output_type": "stream",
     "text": [
      "0.06869645827314662\n"
     ]
    }
   ],
   "source": [
    "r_sq = model.score(x_train,y_train)\n",
    "print(r_sq)"
   ]
  },
  {
   "cell_type": "code",
   "execution_count": 44,
   "metadata": {},
   "outputs": [
    {
     "name": "stdout",
     "output_type": "stream",
     "text": [
      "29676.172428518832\n",
      "[-68.19786922]\n"
     ]
    }
   ],
   "source": [
    "print(model.intercept_)\n",
    "print(model.coef_)"
   ]
  },
  {
   "cell_type": "code",
   "execution_count": 45,
   "metadata": {},
   "outputs": [
    {
     "name": "stdout",
     "output_type": "stream",
     "text": [
      "[24133.75175479 24261.93819996 18416.57792436 23820.35629226\n",
      " 17228.45717935 23140.8888079  14819.26938737 15478.37060652\n",
      " 17163.77417375 12899.96706295 21137.57566979 15399.76314411\n",
      " 17572.34649322 23059.38950419]\n"
     ]
    }
   ],
   "source": [
    "y_pred = model.predict(x_test)\n",
    "print(y_pred)"
   ]
  },
  {
   "cell_type": "code",
   "execution_count": 46,
   "metadata": {},
   "outputs": [
    {
     "name": "stdout",
     "output_type": "stream",
     "text": [
      "      Actual     Predicted\n",
      "0   27910.00  24133.751755\n",
      "1   30850.00  24261.938200\n",
      "2   23280.00  18416.577924\n",
      "3   28665.00  23820.356292\n",
      "4   13957.00  17228.457179\n",
      "5   56185.00  23140.888808\n",
      "6     299.77  14819.269387\n",
      "7   61584.00  15478.370607\n",
      "8   15126.00  17163.774174\n",
      "9    3167.00  12899.967063\n",
      "10  56618.00  21137.575670\n",
      "11  30952.00  15399.763144\n",
      "12  14074.00  17572.346493\n",
      "13  18227.00  23059.389504\n"
     ]
    }
   ],
   "source": [
    "import pandas as pd\n",
    "df = pd.DataFrame({'Actual' : y_test, 'Predicted' : y_pred})\n",
    "print(df)"
   ]
  },
  {
   "cell_type": "code",
   "execution_count": 47,
   "metadata": {},
   "outputs": [
    {
     "data": {
      "image/png": "[encoded data removed]",
      "text/plain": [
       "<Figure size 432x288 with 1 Axes>"
      ]
     },
     "metadata": {
      "needs_background": "light"
     },
     "output_type": "display_data"
    }
   ],
   "source": [
    "import matplotlib.pyplot as plt\n",
    "plt.scatter(x_test, y_test,  color='gray')\n",
    "plt.plot(x_test, y_pred, color='red', linewidth=2)\n",
    "plt.show()"
   ]
  },
  {
   "cell_type": "code",
   "execution_count": 49,
   "metadata": {},
   "outputs": [
    {
     "name": "stdout",
     "output_type": "stream",
     "text": [
      "19233.81112710653\n"
     ]
    }
   ],
   "source": [
    "import numpy as np\n",
    "from sklearn import metrics\n",
    "print(np.sqrt(metrics.mean_squared_error(y_test,y_pred)))"
   ]
  },
  {
   "cell_type": "code",
   "execution_count": 50,
   "metadata": {},
   "outputs": [
    {
     "data": {
      "image/png": "[encoded data removed]",
      "text/plain": [
       "<Figure size 1152x720 with 1 Axes>"
      ]
     },
     "metadata": {
      "needs_background": "light"
     },
     "output_type": "display_data"
    }
   ],
   "source": [
    "df.plot(kind='bar',figsize=(16,10))\n",
    "plt.grid(which='major', linestyle='-', linewidth='0.5', color='green')\n",
    "plt.grid(which='minor', linestyle=':', linewidth='0.5', color='black')\n",
    "plt.show()"
   ]
  },
  {
   "cell_type": "code",
   "execution_count": 70,
   "metadata": {},
   "outputs": [
    {
     "name": "stdout",
     "output_type": "stream",
     "text": [
      "Intercept 26.18559115676101\n",
      "Coefficient [-0.03965888]\n",
      "       Actual  Predicted\n",
      "0   21.459656  22.962526\n",
      "1   23.720186  23.037070\n",
      "2   59.902735  19.637837\n",
      "3   22.040167  22.780278\n",
      "4   15.725843  18.946913\n",
      "5   18.258897  22.385149\n",
      "6   20.213756  17.545906\n",
      "7   20.013454  17.929191\n",
      "8   17.042996  18.909298\n",
      "9    7.163214  16.429780\n",
      "10  18.399613  21.220169\n",
      "11  23.798613  17.883478\n",
      "12  15.857671  19.146894\n",
      "13  46.900651  22.337755\n",
      "13.119912457372319\n"
     ]
    }
   ],
   "source": [
    "import numpy as np\n",
    "from sklearn.linear_model import LinearRegression\n",
    "from sklearn.model_selection import train_test_split\n",
    "from sklearn import metrics\n",
    "import pandas as pd\n",
    "\n",
    "\n",
    "x = np.array(aqis).reshape((-1,1))\n",
    "y = np.array(ratio)\n",
    "\n",
    "x_train, x_test, y_train, y_test = train_test_split(x,y,test_size = 0.2, random_state=0)\n",
    "\n",
    "model = LinearRegression()\n",
    "model.fit(x_train,y_train)\n",
    "r_sq = model.score(x_train,y_train)\n",
    "print('Intercept',model.intercept_)\n",
    "print('Coefficient',model.coef_)\n",
    "y_pred = model.predict(x_test)\n",
    "\n",
    "df = pd.DataFrame({'Actual' : y_test, 'Predicted' : y_pred})\n",
    "print(df)\n",
    "\n",
    "print(np.sqrt(metrics.mean_squared_error(y_test,y_pred)))"
   ]
  },
  {
   "cell_type": "code",
   "execution_count": null,
   "metadata": {},
   "outputs": [],
   "source": []
  }
 ],
 "metadata": {
  "kernelspec": {
   "display_name": "Python 3",
   "language": "python",
   "name": "python3"
  },
  "language_info": {
   "codemirror_mode": {
    "name": "ipython",
    "version": 3
   },
   "file_extension": ".py",
   "mimetype": "text/x-python",
   "name": "python",
   "nbconvert_exporter": "python",
   "pygments_lexer": "ipython3",
   "version": "3.7.1"
  }
 },
 "nbformat": 4,
 "nbformat_minor": 2
}
