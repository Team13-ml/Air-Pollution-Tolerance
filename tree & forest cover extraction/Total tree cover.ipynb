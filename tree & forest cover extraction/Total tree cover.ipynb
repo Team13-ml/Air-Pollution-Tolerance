{
 "cells": [
  {
   "cell_type": "code",
   "execution_count": 1,
   "metadata": {},
   "outputs": [
    {
     "name": "stdout",
     "output_type": "stream",
     "text": [
      "       Year    Area Found                       Plant Species   APTI\n",
      "0    2008.0  Vishakapatnam           Ficus religiosa (Peepal)  25.77\n",
      "1       NaN            NaN           Zizypus jujube (Jujube)   22.32\n",
      "2       NaN            NaN      Phyllanthus\\r emblica (Amla )  18.88\n",
      "3       NaN            NaN   Cassia fistula (Indian laburnum)  18.69\n",
      "4       NaN            NaN     Tamarindus\\r indica (Tamarind)  16.24\n",
      "..      ...            ...                                ...    ...\n",
      "130  2017.0  Uttar Pradesh                    Ficus Religiosa  10.00\n",
      "131     NaN            NaN                      Delonix Regia  11.00\n",
      "132     NaN            NaN               PolyalthiaLongifolia   6.00\n",
      "133     NaN            NaN                     Plumeria\\r sp.  11.00\n",
      "134     NaN            NaN                 Azadirachta Indica   9.00\n",
      "\n",
      "[135 rows x 4 columns]\n"
     ]
    }
   ],
   "source": [
    "import pandas as pd\n",
    "data = pd.read_csv(\"APTI_Values.csv\")\n",
    "print(data)"
   ]
  },
  {
   "cell_type": "code",
   "execution_count": 8,
   "metadata": {},
   "outputs": [
    {
     "name": "stderr",
     "output_type": "stream",
     "text": [
      "C:\\ProgramData\\Anaconda3\\lib\\site-packages\\IPython\\core\\interactiveshell.py:3049: DtypeWarning: Columns (0) have mixed types.Specify dtype option on import or set low_memory=False.\n",
      "  interactivity=interactivity, compiler=compiler, result=result)\n"
     ]
    },
    {
     "name": "stdout",
     "output_type": "stream",
     "text": [
      "  stn_code   sampling_date           state   location agency  \\\n",
      "0      150  June - M061990  Andhra Pradesh  Hyderabad    NaN   \n",
      "1      151  June - M061990  Andhra Pradesh  Hyderabad    NaN   \n",
      "2      152  June - M061990  Andhra Pradesh  Hyderabad    NaN   \n",
      "3      150  July - M071990  Andhra Pradesh  Hyderabad    NaN   \n",
      "4      152  July - M071990  Andhra Pradesh  Hyderabad    NaN   \n",
      "\n",
      "                                 type  so2   no2  rspm    spm  \\\n",
      "0  Residential, Rural and other Areas  3.9  14.1   NaN  133.0   \n",
      "1                     Industrial Area  5.6  11.8   NaN   82.0   \n",
      "2  Residential, Rural and other Areas  3.3  19.3   NaN  111.0   \n",
      "3  Residential, Rural and other Areas  3.9   8.2   NaN  118.0   \n",
      "4  Residential, Rural and other Areas  3.5  12.1   NaN  135.0   \n",
      "\n",
      "  location_monitoring_station  pm2_5        date  formula     AQI  \n",
      "0                         NaN    NaN  01-06-1990  0.89000  89.000  \n",
      "1                         NaN    NaN  01-06-1990  0.62750  62.750  \n",
      "2                         NaN    NaN  01-06-1990  0.83750  83.750  \n",
      "3                         NaN    NaN  01-07-1990  0.74125  74.125  \n",
      "4                         NaN    NaN  01-07-1990  0.87000  87.000  \n"
     ]
    }
   ],
   "source": [
    "d = pd.read_csv(\"india-air-quality-data2.csv\", encoding = 'cp1252')\n",
    "print(d.head())"
   ]
  },
  {
   "cell_type": "code",
   "execution_count": 10,
   "metadata": {},
   "outputs": [
    {
     "name": "stdout",
     "output_type": "stream",
     "text": [
      "            State/UT   2001    2003   2005   2009   2011   2013   2015   2017  \\\n",
      "0     Andhra Pradesh  9,011  12,120  7,640  7,191  7,152  7,187  3,965  3,753   \n",
      "1  Arunachal Pradesh    478     363    446    592    549    660    761    807   \n",
      "2              Assam  1,942     935  1,484  1,590  1,564  1,582  1,613  1,496   \n",
      "3              Bihar  3,693   1,620  2,522  2,495  2,369  2,164  2,182  2,263   \n",
      "4       Chhattisgarh  3,535   6,723  4,492  4,027  3,866  3,463  3,629  3,833   \n",
      "\n",
      "    2019  \n",
      "0  3,914  \n",
      "1    848  \n",
      "2  1,408  \n",
      "3  2,003  \n",
      "4  4,248  \n"
     ]
    }
   ],
   "source": [
    "t = pd.read_csv(\"tree_cover.csv\")\n",
    "print(t.head())"
   ]
  },
  {
   "cell_type": "code",
   "execution_count": 11,
   "metadata": {},
   "outputs": [
    {
     "name": "stdout",
     "output_type": "stream",
     "text": [
      "            State/UT Geographical Area_1-13 Geographical Area_15-19  \\\n",
      "0     Andhra Pradesh               2,75,069                1,60,204   \n",
      "1  Arunachal Pradesh                 83,743                  83,743   \n",
      "2              Assam                 78,438                  78,438   \n",
      "3              Bihar                 94,163                  94,163   \n",
      "4       Chhattisgarh               1,35,191                1,35,191   \n",
      "\n",
      "  Very dense forest-2001 Open forest-2001 Total-2001 Very dense forest-2003  \\\n",
      "0                 25,827           18,810     44,637                     23   \n",
      "1                 53,932           14,113     68,045                 13,907   \n",
      "2                 15,830           11,884     27,714                  1,684   \n",
      "3                  3,372            2,348      5,720                     76   \n",
      "4                 37,880           18,568     56,448                  1,540   \n",
      "\n",
      "  Mod. dense forest-2003 Open forest-2003 Total-2003  ... Open forest-2015  \\\n",
      "0                 24,356           20,040     44,419  ...           10,956   \n",
      "1                 39,604           14,508     68,019  ...           15,143   \n",
      "2                 11,358           14,784     27,826  ...           14,914   \n",
      "3                  2,951            2,531      5,558  ...            3,664   \n",
      "4                 37,440           17,018     55,998  ...           16,588   \n",
      "\n",
      "  Total-2015 Very dense forest-2017 Mod. dense forest-2017 Open forest-2017  \\\n",
      "0     24,424                  1,957                 14,051           12,139   \n",
      "1     67,248                 20,721                 30,955           15,288   \n",
      "2     27,623                  2,797                 10,192           15,116   \n",
      "3      7,288                    332                  3,260            3,707   \n",
      "4     55,586                  7,064                 32,215           16,268   \n",
      "\n",
      "  Total-2017 Very dense forest-2019 Mod. dense forest-2019 Open forest-2019  \\\n",
      "0     28,147                  1,994                 13,938           13,205   \n",
      "1     66,964                 21,095                 30,557           15,036   \n",
      "2     28,105                  2,795                 10,279           15,253   \n",
      "3      7,299                    333                  3,280            3,693   \n",
      "4     55,547                  7,068                 32,198           16,345   \n",
      "\n",
      "  Total-2019  \n",
      "0     29,137  \n",
      "1     66,688  \n",
      "2     28,327  \n",
      "3      7,306  \n",
      "4     55,611  \n",
      "\n",
      "[5 rows x 38 columns]\n"
     ]
    }
   ],
   "source": [
    "f = pd.read_csv(\"forest_cover.csv\")\n",
    "print(f.head())"
   ]
  },
  {
   "cell_type": "code",
   "execution_count": 47,
   "metadata": {},
   "outputs": [
    {
     "name": "stdout",
     "output_type": "stream",
     "text": [
      "[7415, 519, 1537, 2508, 4259, 115, 277, 8005, 1487, 673, 6198, 3056, 5575, 2716, 6569, 9222, 169, 473, 147, 269, 4516, 1761, 8326, 23, 5294, 0, 152, 7792, 661, 2363, 48, 10, 27, 9, 4, 38, 92216, 2.8049999999999997]\n"
     ]
    }
   ],
   "source": [
    "l1 = list(t['2005'])\n",
    "l2 = list(t['2009'])\n",
    "tc_2007 = []\n",
    "for i in range(len(l1)-1):\n",
    "    if(l1[i] == '-'):\n",
    "        tc_2007.append(0)\n",
    "    else:\n",
    "        a = int(l1[i].replace(',',''))\n",
    "        b = int(l2[i].replace(',',''))\n",
    "        avg = (a+b)/2\n",
    "        tc_2007.append(int(avg))\n",
    "tc_2007.append((float(l1[len(l1)-1]) + float(l2[len(l2)-1]))/2)\n",
    "print(tc_2007)"
   ]
  },
  {
   "cell_type": "code",
   "execution_count": 48,
   "metadata": {},
   "outputs": [
    {
     "name": "stdout",
     "output_type": "stream",
     "text": [
      "            State/UT   2001    2003   2005    2007   2009   2011   2013  \\\n",
      "0     Andhra Pradesh  9,011  12,120  7,640  7415.0  7,191  7,152  7,187   \n",
      "1  Arunachal Pradesh    478     363    446   519.0    592    549    660   \n",
      "2              Assam  1,942     935  1,484  1537.0  1,590  1,564  1,582   \n",
      "3              Bihar  3,693   1,620  2,522  2508.0  2,495  2,369  2,164   \n",
      "4       Chhattisgarh  3,535   6,723  4,492  4259.0  4,027  3,866  3,463   \n",
      "\n",
      "    2015   2017   2019  \n",
      "0  3,965  3,753  3,914  \n",
      "1    761    807    848  \n",
      "2  1,613  1,496  1,408  \n",
      "3  2,182  2,263  2,003  \n",
      "4  3,629  3,833  4,248  \n"
     ]
    }
   ],
   "source": [
    "t.insert(4,\"2007\",tc_2007,True)\n",
    "print(t.head())"
   ]
  },
  {
   "cell_type": "code",
   "execution_count": 82,
   "metadata": {},
   "outputs": [
    {
     "name": "stdout",
     "output_type": "stream",
     "text": [
      "[44760.5, 67686.0, 27759.0, 6181.0, 55934.0, 173.5, 2153.5, 14783.0, 1555.5, 14510.5, 21976.5, 22805.0, 36319.5, 16450.5, 77064.5, 48757.5, 17249.5, 17080.0, 18835.0, 13536.5, 48610.5, 1622.0, 15931.0, 3309.5, 22990.5, 0, 8083.0, 14229.5, 24480.0, 12668.5, 6813.0, 16.0, 218.0, 7.0, 24.5, 42.0, 684616.0]\n"
     ]
    }
   ],
   "source": [
    "l1 = list(f['Total-2007'])\n",
    "l2 = list(f['Total-2011'])\n",
    "tc_2009 = []\n",
    "for i in range(len(l1)):\n",
    "    if(l1[i] == '-'):\n",
    "        tc_2009.append(0)\n",
    "    else:\n",
    "        a = int(l1[i].replace(',',''))\n",
    "        b = int(l2[i].replace(',',''))\n",
    "        avg = (a+b)/2\n",
    "        tc_2009.append(avg)\n",
    "print(tc_2009)"
   ]
  },
  {
   "cell_type": "code",
   "execution_count": 83,
   "metadata": {},
   "outputs": [
    {
     "name": "stdout",
     "output_type": "stream",
     "text": [
      "            State/UT Geographical Area_1-13 Geographical Area_15-19  \\\n",
      "0     Andhra Pradesh               2,75,069                1,60,204   \n",
      "1  Arunachal Pradesh                 83,743                  83,743   \n",
      "2              Assam                 78,438                  78,438   \n",
      "3              Bihar                 94,163                  94,163   \n",
      "4       Chhattisgarh               1,35,191                1,35,191   \n",
      "\n",
      "  Very dense forest-2001 Open forest-2001  Total-2009 Total-2001  \\\n",
      "0                 25,827           18,810     44760.5     44,637   \n",
      "1                 53,932           14,113     67686.0     68,045   \n",
      "2                 15,830           11,884     27759.0     27,714   \n",
      "3                  3,372            2,348      6181.0      5,720   \n",
      "4                 37,880           18,568     55934.0     56,448   \n",
      "\n",
      "  Very dense forest-2003 Mod. dense forest-2003 Open forest-2003  ...  \\\n",
      "0                     23                 24,356           20,040  ...   \n",
      "1                 13,907                 39,604           14,508  ...   \n",
      "2                  1,684                 11,358           14,784  ...   \n",
      "3                     76                  2,951            2,531  ...   \n",
      "4                  1,540                 37,440           17,018  ...   \n",
      "\n",
      "  Open forest-2015 Total-2015 Very dense forest-2017 Mod. dense forest-2017  \\\n",
      "0           10,956     24,424                  1,957                 14,051   \n",
      "1           15,143     67,248                 20,721                 30,955   \n",
      "2           14,914     27,623                  2,797                 10,192   \n",
      "3            3,664      7,288                    332                  3,260   \n",
      "4           16,588     55,586                  7,064                 32,215   \n",
      "\n",
      "  Open forest-2017 Total-2017 Very dense forest-2019 Mod. dense forest-2019  \\\n",
      "0           12,139     28,147                  1,994                 13,938   \n",
      "1           15,288     66,964                 21,095                 30,557   \n",
      "2           15,116     28,105                  2,795                 10,279   \n",
      "3            3,707      7,299                    333                  3,280   \n",
      "4           16,268     55,547                  7,068                 32,198   \n",
      "\n",
      "  Open forest-2019 Total-2019  \n",
      "0           13,205     29,137  \n",
      "1           15,036     66,688  \n",
      "2           15,253     28,327  \n",
      "3            3,693      7,306  \n",
      "4           16,345     55,611  \n",
      "\n",
      "[5 rows x 39 columns]\n"
     ]
    }
   ],
   "source": [
    "f.insert(5,\"Total-2009\",tc_2009,True)\n",
    "print(f.head())"
   ]
  },
  {
   "cell_type": "code",
   "execution_count": 103,
   "metadata": {},
   "outputs": [],
   "source": [
    "tc = pd.DataFrame()"
   ]
  },
  {
   "cell_type": "code",
   "execution_count": 104,
   "metadata": {},
   "outputs": [
    {
     "name": "stdout",
     "output_type": "stream",
     "text": [
      "2001\n",
      "[53648, 68523, 29656, 9413, 59983, 151, 2157, 19188, 3280, 14757, 23454, 25331, 44437, 16706, 83016, 55751, 17021, 15724, 17589, 13415, 53202, 4066, 21653, 3207, 27536, 0, 7133, 21291, 24386, 13957, 7013, 11, 246, 10, 27, 71]\n",
      "2003\n",
      "[56539, 68382, 28761, 7178, 62721, 268, 2292, 25532, 2932, 14844, 25093, 27728, 41820, 17480, 83679, 56185, 17355, 17191, 18560, 13826, 54747, 3188, 24464, 3284, 27634, 0, 8209, 21833, 25036, 14074, 6997, 23, 260, 14, 25, 75]\n",
      "2005\n",
      "[52012, 68223, 29129, 8101, 60355, 283, 2432, 22336, 3152, 15078, 26906, 25671, 40718, 18227, 82280, 56454, 17228, 17393, 18806, 13957, 52972, 3381, 24229, 3289, 28665, 0, 8289, 22330, 25100, 14682, 6682, 24, 249, 17, 29, 84]\n",
      "2007\n",
      "[52517, 67872, 29229, 9312, 60129, 292, 2428, 22625, 3081, 15341, 28884, 25950, 41765, 20040, 84269, 59872, 17449, 17794, 19387, 13733, 53371, 3425, 24362, 3380, 28632, 0, 8225, 22133, 25156, 15357, 6710, 27, 238, 15, 30, 82]\n",
      "2009\n",
      "[51951, 68278, 29349, 8676, 59961, 296, 2439, 23173, 2964, 15148, 28740, 25837, 42002, 19251, 83935, 58223, 17446, 17622, 19007, 13836, 53045, 3321, 24205, 3329, 27958, 0, 8254, 21610, 25145, 15126, 6857, 27, 245, 16, 28, 76]\n",
      "2011\n",
      "[51571, 68568, 29390, 7927, 59864, 290, 2442, 22783, 2912, 14976, 27817, 25630, 42182, 18332, 83519, 55944, 17412, 17417, 18620, 13931, 52667, 3279, 24098, 3287, 27361, 0, 8277, 21500, 25107, 14678, 7003, 25, 254, 17, 28, 71]\n",
      "2013\n",
      "[51559, 68437, 29227, 7743, 59326, 294, 2498, 23073, 2869, 15066, 28937, 25220, 41171, 18741, 83100, 56618, 17310, 17656, 18907, 14091, 52387, 3057, 23710, 3293, 27910, 0, 8368, 21022, 25145, 14557, 6670, 25, 250, 17, 30, 71]\n",
      "2015\n",
      "[28389, 68009, 29236, 9470, 59215, 299.77, 2549, 22574, 2939, 15453, 31342, 26261, 41973, 22190, 85235, 60186, 17237, 17927, 19283, 13347, 54340, 3315, 24440, 3392, 30850, 24140, 8044, 21505, 24992, 18916, 6788, 31.03, 234, 29.61, 31.06, 82.38]\n",
      "2017\n",
      "[31900, 67771, 29601, 9562, 59380, 305.40999999999997, 2552, 22781, 3003, 15922, 31056, 26475, 43263, 23280, 85487, 60513, 17566, 17803, 18653, 12868, 55338, 3459, 24838, 3379, 30952, 23088, 7941, 22121, 25062, 18983, 6777, 31.56, 237, 30.49, 29.1, 80.67]\n",
      "2019\n",
      "[33051, 67536, 29735, 9309, 59859, 324.44, 2509, 21769, 3167, 16263, 31556, 26268, 44832, 24080, 85821, 61584, 17020, 17829, 18447, 12848, 56267, 3441, 24742, 3378, 31194, 23096, 7957, 22148, 25144, 18908, 6784, 47.03, 235, 25.49, 27.39, 75.41]\n"
     ]
    }
   ],
   "source": [
    "#states = ['Delhi', 'Harayana', 'Tamil Nadu', 'Gujarat', 'Kerala', 'Uttar Pradesh', 'West Bengal', 'Maharashtra']\n",
    "states = list(t['State/UT'])\n",
    "states.remove('Total')\n",
    "states.remove('Percent of Geographical   Area')\n",
    "tc.insert(0,\"States\",states,True)\n",
    "years = ['2001','2003','2005','2007','2009','2011','2013','2015','2017','2019']\n",
    "k=1\n",
    "def sum_value(l):\n",
    "    sum = 0\n",
    "    if(l=='-'):\n",
    "        sum = 0\n",
    "    elif isinstance(l,float):\n",
    "        sum = int(l)\n",
    "    elif l.find('.')!=-1:\n",
    "        sum = float(l)    \n",
    "    else:\n",
    "        sum = int(l.replace(',',''))   \n",
    "    return sum\n",
    "for year in years:\n",
    "    l1 = list(t[year])\n",
    "    n = len(l1)\n",
    "    l1.pop(n-1)\n",
    "    l1.pop(n-2)\n",
    "    l2 = list(f['Total-'+year])\n",
    "    n = len(l2)\n",
    "    l2.pop(n-1)\n",
    "    ttc = []\n",
    "    for i in range(len(l1)):\n",
    "        ts = sum_value(l1[i]) + sum_value(l2[i])\n",
    "        ttc.append(ts)\n",
    "    print(year)\n",
    "    print(ttc)\n",
    "    tc.insert(k,year,ttc,True)\n",
    "    k = k+1"
   ]
  },
  {
   "cell_type": "code",
   "execution_count": 81,
   "metadata": {},
   "outputs": [],
   "source": [
    "#del f['Total-2009']"
   ]
  },
  {
   "cell_type": "code",
   "execution_count": 105,
   "metadata": {},
   "outputs": [],
   "source": [
    "tc.to_csv(\"Total Tree Cover.csv\")"
   ]
  },
  {
   "cell_type": "code",
   "execution_count": null,
   "metadata": {},
   "outputs": [],
   "source": []
  }
 ],
 "metadata": {
  "kernelspec": {
   "display_name": "Python 3",
   "language": "python",
   "name": "python3"
  },
  "language_info": {
   "codemirror_mode": {
    "name": "ipython",
    "version": 3
   },
   "file_extension": ".py",
   "mimetype": "text/x-python",
   "name": "python",
   "nbconvert_exporter": "python",
   "pygments_lexer": "ipython3",
   "version": "3.7.1"
  }
 },
 "nbformat": 4,
 "nbformat_minor": 2
}
